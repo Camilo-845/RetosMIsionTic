{
  "nbformat": 4,
  "nbformat_minor": 0,
  "metadata": {
    "colab": {
      "name": "RETOS.ipynb",
      "provenance": [],
      "collapsed_sections": [
        "sOXhi5miQd9m",
        "WS39l9MWQsOk",
        "w9PUgBpLQIZz",
        "Yq5FqrxJkDFR",
        "yMAZhM9xYIFt"
      ],
      "authorship_tag": "ABX9TyPVidVIGBHZxOlcnghVqXev",
      "include_colab_link": true
    },
    "kernelspec": {
      "name": "python3",
      "display_name": "Python 3"
    },
    "language_info": {
      "name": "python"
    }
  },
  "cells": [
    {
      "cell_type": "markdown",
      "metadata": {
        "id": "view-in-github",
        "colab_type": "text"
      },
      "source": [
        "<a href=\"https://colab.research.google.com/github/Camilo-845/RetosMIsionTic/blob/main/RETOS_CICLO_1.ipynb\" target=\"_parent\"><img src=\"https://colab.research.google.com/assets/colab-badge.svg\" alt=\"Open In Colab\"/></a>"
      ]
    },
    {
      "cell_type": "markdown",
      "metadata": {
        "id": "sOXhi5miQd9m"
      },
      "source": [
        "**RETO_1**\n",
        "---"
      ]
    },
    {
      "cell_type": "markdown",
      "metadata": {
        "id": "sk2UV9Fl8TqR"
      },
      "source": [
        "El dueño de una tienda de artículos de ropa le ha solicitado a usted como programador, que le desarrolle un programa, que le permita calcular el valor a pagar de cada cliente que hace compras en su tienda.\n",
        "\n",
        "Se solicita que el software haga específicamente lo siguiente, en ese orden:\n",
        "\n",
        "·         Solicitar la cantidad de elementos comprados.\n",
        "\n",
        "·         Solicitar el precio de los elementos comprados en conjunto.\n",
        "\n",
        " \n",
        "\n",
        "El programa debe realizar las siguientes validaciones para los costos de envío:\n",
        "\n",
        "-Si la compra es menor a $ 50.000 => Cobrar $8.000\n",
        "\n",
        "-Si la compra está entre $ 50.000 y 200.000 => Cobrar el 3% del valor de la compra\n",
        "\n",
        "-Si la compra es superior a $200.000 => No Cobrar envío\n",
        "\n",
        "Se debe estimar la cantidad de bolsas plásticas para el empaque de los productos adquiridos, cada bolsa tiene la capacidad de contener 3 elementos y tienen un costo de $100 por bolsa.\n",
        "\n",
        "Finalmente se debe generar la factura de compra mostrando: el precio total de los productos, el costo del envío, el costo de las bolsas y el costo final de la compra (suma de precio total, más costos de envío, más costo de las bolsas); y se debe mostrar en texto la cantidad de bolsas a utilizar en el empaque de los elementos comprados.\n",
        "\n",
        "Entradas:\n",
        "\n",
        "·         Cantidad de elementos comprados.\n",
        "\n",
        "·         Precio total de la compra.\n",
        "\n",
        "Salidas:\n",
        "\n",
        "·         Precio Total de elementos comprados.\n",
        "\n",
        "·         Costos de Envío.\n",
        "\n",
        "·         Costo de la Bolsas.\n",
        "\n",
        "·         Precio Final.\n",
        "\n",
        "·         Cantidad de bolsas en texto.\n",
        "\n",
        "EJEMPLOS: "
      ]
    },
    {
      "cell_type": "markdown",
      "metadata": {
        "id": "zbZYCRU-9v8d"
      },
      "source": [
        "![Captura de pantalla (31).png](data:image/png;base64,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)"
      ]
    },
    {
      "cell_type": "code",
      "metadata": {
        "id": "TOfkIGOjv7kA"
      },
      "source": [
        "Elementos_comprados=input(\"Cantidad de elementos comprados: \")\n",
        "Elementos_comprados=int(Elementos_comprados)\n",
        "Total_de_la_compra=input(\"Precio total de la compra: \")\n",
        "Total_de_la_compra=int(Total_de_la_compra)\n",
        "if Total_de_la_compra < 50000:\n",
        "  costo_de_envio=8000\n",
        "elif 5000 <= Total_de_la_compra and Total_de_la_compra<200000 :\n",
        "  costo_de_envio=int(Total_de_la_compra*0.03)\n",
        "elif Total_de_la_compra >=200000 :\n",
        "  costo_de_envio=0\n",
        "Cantidad_de_bolsas=Elementos_comprados/3\n",
        "print(Cantidad_de_bolsas)\n",
        "Costo_de_bolsas=int(Cantidad_de_bolsas*100)\n",
        "print(Total_de_la_compra)\n",
        "print(costo_de_envio)\n",
        "print(Costo_de_bolsas)\n",
        "print(Total_de_la_compra+costo_de_envio+Costo_de_bolsas)"
      ],
      "execution_count": null,
      "outputs": []
    },
    {
      "cell_type": "code",
      "metadata": {
        "id": "Y65hsQGMRDU7"
      },
      "source": [
        "Elementos_comprados=int(input(\"Cantidad de elementos comprados: \"))\n",
        "Total_de_la_compra=int(input(\"Precio total de la compra: \"))\n",
        "if Total_de_la_compra < 50000:\n",
        "  costo_de_envio=8000\n",
        "elif 5000 <= Total_de_la_compra and Total_de_la_compra<200000 :\n",
        "  costo_de_envio=int(Total_de_la_compra*0.03)\n",
        "elif Total_de_la_compra >=200000 :\n",
        "  costo_de_envio=0\n",
        "if Elementos_comprados//3 == Elementos_comprados/3:\n",
        "  Cantidad_de_bolsas= int(Elementos_comprados/3)\n",
        "elif Elementos_comprados//3 != Elementos_comprados/3:\n",
        "  Cantidad_de_bolsas= int((Elementos_comprados//3) +1)\n",
        "#import math\n",
        "#Cantidad_de_bolsas=math.ceil(Elementos_comprados/3)\n",
        "Costo_de_bolsas=int(Cantidad_de_bolsas*100)\n",
        "print(Total_de_la_compra)\n",
        "print(costo_de_envio)\n",
        "print(Costo_de_bolsas)\n",
        "print(Total_de_la_compra+costo_de_envio+Costo_de_bolsas)\n",
        "if Cantidad_de_bolsas ==1:\n",
        "  print (\"'una'\")\n",
        "elif Cantidad_de_bolsas ==2:\n",
        "  print (\"'dos'\")\n",
        "elif Cantidad_de_bolsas ==3:\n",
        "  print (\"'tres'\")\n",
        "elif Cantidad_de_bolsas ==4:\n",
        "  print (\"'cuatro'\")\n",
        "elif Cantidad_de_bolsas ==5:\n",
        "  print (\"'cinco'\")\n",
        "elif Cantidad_de_bolsas ==6:\n",
        "  print (\"'seis'\")\n",
        "elif Cantidad_de_bolsas ==7:\n",
        "  print (\"'siete'\")\n",
        "elif Cantidad_de_bolsas ==8:\n",
        "  print (\"'ocho'\")\n",
        "elif Cantidad_de_bolsas ==9:\n",
        "  print (\"'nueve'\")\n",
        "elif Cantidad_de_bolsas ==10:\n",
        "  print (\"'diez'\")\n",
        "else :\n",
        "  print(\"mas de diez bolsas\")"
      ],
      "execution_count": null,
      "outputs": []
    },
    {
      "cell_type": "markdown",
      "metadata": {
        "id": "WS39l9MWQsOk"
      },
      "source": [
        "---\n",
        "**RETO_2**\n",
        "---"
      ]
    },
    {
      "cell_type": "markdown",
      "metadata": {
        "id": "kyDrTxpoRb_3"
      },
      "source": [
        "Posicionamiento de Fanpage en Facebook\n",
        "\n",
        "Dos personas que son administradores de páginas en Facebook (fan page) muy reconocidas, Texla y VolksBaguen, realizan publicaciones dirigidas al público de esta red social en una población de 18 a 40 años de edad, pero se han visto penalizados por los cambios en el algoritmo de personalización sobre el tipo de palabras que usan en sus contenidos.\n",
        "\n",
        "Le pidieron a usted como experto en contenidos digitales, que desarrolle un programa para determinar la evolución de las publicaciones entre ellos dos y cual será priorizado para ser mostrado como sugerencia al público objetivo.\n",
        "\n",
        "Usted tiene un amigo certificado en Facebook Ads y este le comenta que los contenidos cuyo título empieza con cierta letra van a estar mejor posicionados en las listas durante las siguientes semanas. Con esa información, y con las letras de los títulos de los videos de Texla y VolksBaguen está en capacidad de evaluar su desempeño en el tiempo. Si la primera letra del título prioriza contenido de Texla se le suma un punto a este y si es a VolksBaguen, se le suma el punto a él. El punto se puede asignar a ambos o a ninguno.\n",
        "\n",
        " \n",
        "\n",
        "Desarrolle un programa que muestre la evolución de las prioridades entre las dos fan pages así: su programa recibe la primera letra de los títulos de los videos cargados a las fanpage, recibe las letras priorizadas por el algoritmo de Facebook durante esas semanas y debe imprimir en pantalla el estado de la competencia de priorización en cada momento así. Si Texla tiene más puntos y va ganando pone Q, y si va ganando VolksBaguen pone F, y si están empatados pone _.\n",
        "\n",
        " \n",
        "\n",
        " \n",
        "\n",
        "Ejemplos\n",
        "\n",
        " \n",
        "\n",
        " Entradas:\n",
        "\n",
        "  AJZYD\n",
        "\n",
        "  VINSG\n",
        "\n",
        "  KCQYQOYDYYWYVVXOBVZGAFY\n",
        "\n",
        " Salida:\n",
        "\n",
        "  ___QQQQQQQQQQQQQQQQQQQQ\n",
        "\n",
        "\n",
        " Entradas:\n",
        "\n",
        "  KAIGL\n",
        "\n",
        "  MUBWA\n",
        "\n",
        "  FZRIUCDYBWRTFTZWAYY\n",
        "\n",
        " \n",
        "\n",
        " Salida:\n",
        "\n",
        "  ___Q____FFFFFFFFFFF\n",
        "\n",
        " \n",
        "\n",
        " Entradas:\n",
        "\n",
        "  GUCDKQ\n",
        "\n",
        "  IJSOVN\n",
        "\n",
        "  QLEWKAGYUDHHZBEBSLX\n",
        "\n",
        " \n",
        "\n",
        " Salida:\n",
        "\n",
        "  QQQQQQQQQQQQQQQQQQQ\n",
        "\n",
        " \n",
        "\n",
        " Entradas:\n",
        "\n",
        "  OMYAZ\n",
        "\n",
        "  TBVUZ\n",
        "\n",
        "  HRBDWIEJSAVWAIWDIBAWNVG\n",
        "\n",
        " \n",
        "\n",
        " Salida:\n",
        "\n",
        "  __FFFFFFF_FF_____F___FF"
      ]
    },
    {
      "cell_type": "code",
      "metadata": {
        "colab": {
          "base_uri": "https://localhost:8080/",
          "height": 527
        },
        "id": "GpLDRdXOQwpT",
        "outputId": "790e622b-2d91-4169-9884-53417660caeb"
      },
      "source": [
        "#Entradas= Primera letra del titulos de publicaciones de las 2 fanpages (3 lineas(linea1=Titulos de texla,Linea2=Titulos de Volks,Linea3=letras priorizadas por semana))\n",
        "#Salida = Estado de la competecia por semanas Q si esta ganando Texla, F si esta ganando Volks, _ si estan empatados\n",
        "#la competencia se califica segun la letra que corresponde a la semana en la que estan si esta letra corresponde a una de las letras de tiulos de las 2 empresas se le añade un punto a la que corresponda si las dos tienen la letra no se le suma a ninguna o se le suma a las dos\n",
        "Letras_Texla=str(input(\"Letras de Titulos de Texla: \"))\n",
        "Letras_Volks=str(input(\"Letras de Titulos de Volks: \"))\n",
        "Letras_Priorizadas=str(input(\"Letras priorizdas: \"))\n",
        "#definimos las variables de las 3 entradas\n",
        "Contador_Texla=0\n",
        "Contador_Volks=0\n",
        "#defimimos las varibles para el contador de la competecia\n",
        "Competencia=[]\n",
        "#creamos una lista vacia para añadirle como valla la competecia cada semana\n",
        "for letra in Letras_Priorizadas:#para cada letra en la priorizadas mirar lo que esta en ella\n",
        "  for letra1 in Letras_Texla:\n",
        "    if letra in letra1:\n",
        "      Contador_Texla+=1\n",
        "      break#ROMPER EL SICLO FOR PARA QUE CUANDO ENCUENTRE UNA COINIDENCIA DEJE DE BUSCAR Y NO AÑADA MAS PUNTOS EN EL CASO DE QUE HALLA MAS COINCIDENCIAS \n",
        "  for letra1 in Letras_Volks:\n",
        "    if letra in letra1:\n",
        "      Contador_Volks+=1\n",
        "      break\n",
        "  if Contador_Texla>Contador_Volks:\n",
        "    Competencia.append(\"J\")\n",
        "  elif Contador_Texla<Contador_Volks:\n",
        "    Competencia.append(\"K\")\n",
        "  else:\n",
        "    Competencia.append(\"L\")\n",
        "#ya se conoce el resultado de la competencia de todas las semanas ahora debemos ponerlo en pantalla asi (F_Q_QQQQ_FFFF_QQQQ)\n",
        "for letra in Competencia:\n",
        "  print(letra,end=\"\")\n",
        "#Para cada str que tiene la lista la imprime con un str vacio al final, asi se van añadiendo totalmente juntas como requiere el programa "
      ],
      "execution_count": null,
      "outputs": [
        {
          "output_type": "error",
          "ename": "KeyboardInterrupt",
          "evalue": "ignored",
          "traceback": [
            "\u001b[0;31m---------------------------------------------------------------------------\u001b[0m",
            "\u001b[0;31mKeyboardInterrupt\u001b[0m                         Traceback (most recent call last)",
            "\u001b[0;32m/usr/local/lib/python3.7/dist-packages/ipykernel/kernelbase.py\u001b[0m in \u001b[0;36m_input_request\u001b[0;34m(self, prompt, ident, parent, password)\u001b[0m\n\u001b[1;32m    728\u001b[0m             \u001b[0;32mtry\u001b[0m\u001b[0;34m:\u001b[0m\u001b[0;34m\u001b[0m\u001b[0;34m\u001b[0m\u001b[0m\n\u001b[0;32m--> 729\u001b[0;31m                 \u001b[0mident\u001b[0m\u001b[0;34m,\u001b[0m \u001b[0mreply\u001b[0m \u001b[0;34m=\u001b[0m \u001b[0mself\u001b[0m\u001b[0;34m.\u001b[0m\u001b[0msession\u001b[0m\u001b[0;34m.\u001b[0m\u001b[0mrecv\u001b[0m\u001b[0;34m(\u001b[0m\u001b[0mself\u001b[0m\u001b[0;34m.\u001b[0m\u001b[0mstdin_socket\u001b[0m\u001b[0;34m,\u001b[0m \u001b[0;36m0\u001b[0m\u001b[0;34m)\u001b[0m\u001b[0;34m\u001b[0m\u001b[0;34m\u001b[0m\u001b[0m\n\u001b[0m\u001b[1;32m    730\u001b[0m             \u001b[0;32mexcept\u001b[0m \u001b[0mException\u001b[0m\u001b[0;34m:\u001b[0m\u001b[0;34m\u001b[0m\u001b[0;34m\u001b[0m\u001b[0m\n",
            "\u001b[0;32m/usr/local/lib/python3.7/dist-packages/jupyter_client/session.py\u001b[0m in \u001b[0;36mrecv\u001b[0;34m(self, socket, mode, content, copy)\u001b[0m\n\u001b[1;32m    802\u001b[0m         \u001b[0;32mtry\u001b[0m\u001b[0;34m:\u001b[0m\u001b[0;34m\u001b[0m\u001b[0;34m\u001b[0m\u001b[0m\n\u001b[0;32m--> 803\u001b[0;31m             \u001b[0mmsg_list\u001b[0m \u001b[0;34m=\u001b[0m \u001b[0msocket\u001b[0m\u001b[0;34m.\u001b[0m\u001b[0mrecv_multipart\u001b[0m\u001b[0;34m(\u001b[0m\u001b[0mmode\u001b[0m\u001b[0;34m,\u001b[0m \u001b[0mcopy\u001b[0m\u001b[0;34m=\u001b[0m\u001b[0mcopy\u001b[0m\u001b[0;34m)\u001b[0m\u001b[0;34m\u001b[0m\u001b[0;34m\u001b[0m\u001b[0m\n\u001b[0m\u001b[1;32m    804\u001b[0m         \u001b[0;32mexcept\u001b[0m \u001b[0mzmq\u001b[0m\u001b[0;34m.\u001b[0m\u001b[0mZMQError\u001b[0m \u001b[0;32mas\u001b[0m \u001b[0me\u001b[0m\u001b[0;34m:\u001b[0m\u001b[0;34m\u001b[0m\u001b[0;34m\u001b[0m\u001b[0m\n",
            "\u001b[0;32m/usr/local/lib/python3.7/dist-packages/zmq/sugar/socket.py\u001b[0m in \u001b[0;36mrecv_multipart\u001b[0;34m(self, flags, copy, track)\u001b[0m\n\u001b[1;32m    582\u001b[0m         \"\"\"\n\u001b[0;32m--> 583\u001b[0;31m         \u001b[0mparts\u001b[0m \u001b[0;34m=\u001b[0m \u001b[0;34m[\u001b[0m\u001b[0mself\u001b[0m\u001b[0;34m.\u001b[0m\u001b[0mrecv\u001b[0m\u001b[0;34m(\u001b[0m\u001b[0mflags\u001b[0m\u001b[0;34m,\u001b[0m \u001b[0mcopy\u001b[0m\u001b[0;34m=\u001b[0m\u001b[0mcopy\u001b[0m\u001b[0;34m,\u001b[0m \u001b[0mtrack\u001b[0m\u001b[0;34m=\u001b[0m\u001b[0mtrack\u001b[0m\u001b[0;34m)\u001b[0m\u001b[0;34m]\u001b[0m\u001b[0;34m\u001b[0m\u001b[0;34m\u001b[0m\u001b[0m\n\u001b[0m\u001b[1;32m    584\u001b[0m         \u001b[0;31m# have first part already, only loop while more to receive\u001b[0m\u001b[0;34m\u001b[0m\u001b[0;34m\u001b[0m\u001b[0;34m\u001b[0m\u001b[0m\n",
            "\u001b[0;32mzmq/backend/cython/socket.pyx\u001b[0m in \u001b[0;36mzmq.backend.cython.socket.Socket.recv\u001b[0;34m()\u001b[0m\n",
            "\u001b[0;32mzmq/backend/cython/socket.pyx\u001b[0m in \u001b[0;36mzmq.backend.cython.socket.Socket.recv\u001b[0;34m()\u001b[0m\n",
            "\u001b[0;32mzmq/backend/cython/socket.pyx\u001b[0m in \u001b[0;36mzmq.backend.cython.socket._recv_copy\u001b[0;34m()\u001b[0m\n",
            "\u001b[0;32m/usr/local/lib/python3.7/dist-packages/zmq/backend/cython/checkrc.pxd\u001b[0m in \u001b[0;36mzmq.backend.cython.checkrc._check_rc\u001b[0;34m()\u001b[0m\n",
            "\u001b[0;31mKeyboardInterrupt\u001b[0m: ",
            "\nDuring handling of the above exception, another exception occurred:\n",
            "\u001b[0;31mKeyboardInterrupt\u001b[0m                         Traceback (most recent call last)",
            "\u001b[0;32m<ipython-input-1-80f965bd7d97>\u001b[0m in \u001b[0;36m<module>\u001b[0;34m()\u001b[0m\n\u001b[1;32m      2\u001b[0m \u001b[0;31m#Salida = Estado de la competecia por semanas Q si esta ganando Texla, F si esta ganando Volks, _ si estan empatados\u001b[0m\u001b[0;34m\u001b[0m\u001b[0;34m\u001b[0m\u001b[0;34m\u001b[0m\u001b[0m\n\u001b[1;32m      3\u001b[0m \u001b[0;31m#la competencia se califica segun la letra que corresponde a la semana en la que estan si esta letra corresponde a una de las letras de tiulos de las 2 empresas se le añade un punto a la que corresponda si las dos tienen la letra no se le suma a ninguna o se le suma a las dos\u001b[0m\u001b[0;34m\u001b[0m\u001b[0;34m\u001b[0m\u001b[0;34m\u001b[0m\u001b[0m\n\u001b[0;32m----> 4\u001b[0;31m \u001b[0mLetras_Texla\u001b[0m\u001b[0;34m=\u001b[0m\u001b[0mstr\u001b[0m\u001b[0;34m(\u001b[0m\u001b[0minput\u001b[0m\u001b[0;34m(\u001b[0m\u001b[0;34m\"Letras de Titulos de Texla: \"\u001b[0m\u001b[0;34m)\u001b[0m\u001b[0;34m)\u001b[0m\u001b[0;34m\u001b[0m\u001b[0;34m\u001b[0m\u001b[0m\n\u001b[0m\u001b[1;32m      5\u001b[0m \u001b[0mLetras_Volks\u001b[0m\u001b[0;34m=\u001b[0m\u001b[0mstr\u001b[0m\u001b[0;34m(\u001b[0m\u001b[0minput\u001b[0m\u001b[0;34m(\u001b[0m\u001b[0;34m\"Letras de Titulos de Volks: \"\u001b[0m\u001b[0;34m)\u001b[0m\u001b[0;34m)\u001b[0m\u001b[0;34m\u001b[0m\u001b[0;34m\u001b[0m\u001b[0m\n\u001b[1;32m      6\u001b[0m \u001b[0mLetras_Priorizadas\u001b[0m\u001b[0;34m=\u001b[0m\u001b[0mstr\u001b[0m\u001b[0;34m(\u001b[0m\u001b[0minput\u001b[0m\u001b[0;34m(\u001b[0m\u001b[0;34m\"Letras priorizdas: \"\u001b[0m\u001b[0;34m)\u001b[0m\u001b[0;34m)\u001b[0m\u001b[0;34m\u001b[0m\u001b[0;34m\u001b[0m\u001b[0m\n",
            "\u001b[0;32m/usr/local/lib/python3.7/dist-packages/ipykernel/kernelbase.py\u001b[0m in \u001b[0;36mraw_input\u001b[0;34m(self, prompt)\u001b[0m\n\u001b[1;32m    702\u001b[0m             \u001b[0mself\u001b[0m\u001b[0;34m.\u001b[0m\u001b[0m_parent_ident\u001b[0m\u001b[0;34m,\u001b[0m\u001b[0;34m\u001b[0m\u001b[0;34m\u001b[0m\u001b[0m\n\u001b[1;32m    703\u001b[0m             \u001b[0mself\u001b[0m\u001b[0;34m.\u001b[0m\u001b[0m_parent_header\u001b[0m\u001b[0;34m,\u001b[0m\u001b[0;34m\u001b[0m\u001b[0;34m\u001b[0m\u001b[0m\n\u001b[0;32m--> 704\u001b[0;31m             \u001b[0mpassword\u001b[0m\u001b[0;34m=\u001b[0m\u001b[0;32mFalse\u001b[0m\u001b[0;34m,\u001b[0m\u001b[0;34m\u001b[0m\u001b[0;34m\u001b[0m\u001b[0m\n\u001b[0m\u001b[1;32m    705\u001b[0m         )\n\u001b[1;32m    706\u001b[0m \u001b[0;34m\u001b[0m\u001b[0m\n",
            "\u001b[0;32m/usr/local/lib/python3.7/dist-packages/ipykernel/kernelbase.py\u001b[0m in \u001b[0;36m_input_request\u001b[0;34m(self, prompt, ident, parent, password)\u001b[0m\n\u001b[1;32m    732\u001b[0m             \u001b[0;32mexcept\u001b[0m \u001b[0mKeyboardInterrupt\u001b[0m\u001b[0;34m:\u001b[0m\u001b[0;34m\u001b[0m\u001b[0;34m\u001b[0m\u001b[0m\n\u001b[1;32m    733\u001b[0m                 \u001b[0;31m# re-raise KeyboardInterrupt, to truncate traceback\u001b[0m\u001b[0;34m\u001b[0m\u001b[0;34m\u001b[0m\u001b[0;34m\u001b[0m\u001b[0m\n\u001b[0;32m--> 734\u001b[0;31m                 \u001b[0;32mraise\u001b[0m \u001b[0mKeyboardInterrupt\u001b[0m\u001b[0;34m\u001b[0m\u001b[0;34m\u001b[0m\u001b[0m\n\u001b[0m\u001b[1;32m    735\u001b[0m             \u001b[0;32melse\u001b[0m\u001b[0;34m:\u001b[0m\u001b[0;34m\u001b[0m\u001b[0;34m\u001b[0m\u001b[0m\n\u001b[1;32m    736\u001b[0m                 \u001b[0;32mbreak\u001b[0m\u001b[0;34m\u001b[0m\u001b[0;34m\u001b[0m\u001b[0m\n",
            "\u001b[0;31mKeyboardInterrupt\u001b[0m: "
          ]
        }
      ]
    },
    {
      "cell_type": "markdown",
      "metadata": {
        "id": "w9PUgBpLQIZz"
      },
      "source": [
        "---\n",
        "**RETO_3**\n",
        "---"
      ]
    },
    {
      "cell_type": "markdown",
      "metadata": {
        "id": "t8vwDytxjA8H"
      },
      "source": [
        "Es el año 2000, usted es un Joven de 14 años que en Navidad ha recibido un Juego de Play Station 1, el cual usted pidió a Salta Claus, Papá Noel o a Niño Dios; el caso es que usted se dispone a jugarlo, y en el Disco #2 (el juego es tan largo que tiene 2 discos), se encuentra el siguiente Puzzle:\n",
        "\n",
        "“Se debe acceder a un PC para activar una puerta donde se esconde un gran secreto de lo que creó a los monstruos Mitocondriales que atacaron Nueva York en 1997, pero la clave para acceder al PC que es ‘Melissa Maya’ (la primer contagiada con el Parasito Mitocondrial) fue modificada por un gusano informático que realiza el cambio de la clave original por el de una secuencia que pide la letra en Mayúscula y la cantidad de veces que esta se encuentra en la palabra, en el caso de ‘MelissaMaya’ queda M1E1L1I1S2M1A1Y1A1“, pero este gusano también está presente en varios de los equipos alrededor del juego para desbloquear otras áreas donde existe equipamiento como botiquines, munición y otros objetos que puede ayudarle en su experiencia videojueguil.\n",
        "\n",
        "Usted como jugador desea resolver el Puzzle de manera rápida pero no quiere usar una guía, para no tener que hacer esto a mano con cada reto, pues existen claves bastante largas y decide hacer un programa que realice el conteo de estas letras de la siguiente manera:\n",
        "\n"
      ]
    },
    {
      "cell_type": "markdown",
      "metadata": {
        "id": "9ImotKipj4t0"
      },
      "source": [
        "![Captura de pantalla (30).png](data:image/png;base64,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)"
      ]
    },
    {
      "cell_type": "code",
      "metadata": {
        "id": "xhzZJA54QXjD"
      },
      "source": [
        "cadena=str.upper(input(\"Digite la palabra: \"))\n",
        "letras=[]\n",
        "numeros=[]\n",
        "repeticion=0\n",
        "#for letra in cadena:\n",
        "#  if letras[-1]==letra:\n",
        "#    print(\"hola\")\n",
        "#  else:\n",
        "#    letras.append(letra)\n",
        "#    while (cadena[contador]==cadena[contador+1]):\n",
        "#      repeticion+=1\n",
        "#      contador+=1\n",
        "#    numeros.append(repeticion)\n",
        "#    repeticion=0\n",
        "#print(letras)\n",
        "#print(numeros)\n",
        "#print(contador)\n",
        "for letra in cadena:\n",
        "  if not letra ==\" \":\n",
        "    if letras==[]:\n",
        "      if letra in letras:\n",
        "        repeticion+=1\n",
        "      else:\n",
        "        if letras==[]:\n",
        "          repeticion=1\n",
        "        else:\n",
        "          numeros.append(repeticion)\n",
        "          repeticion=1\n",
        "        letras.append(letra)\n",
        "    else:\n",
        "      if letra in letras[-1]:\n",
        "        repeticion+=1\n",
        "      else:\n",
        "        if letras==[]:\n",
        "          repeticion=1\n",
        "        else:\n",
        "          numeros.append(repeticion)\n",
        "          repeticion=1\n",
        "        letras.append(letra)\n",
        "numeros.append(repeticion)\n",
        "for item in letras:\n",
        "  print(item,end=\" \")\n",
        "print(\"\")\n",
        "for item in numeros:\n",
        "  print(item,end=\" \")"
      ],
      "execution_count": null,
      "outputs": []
    },
    {
      "cell_type": "code",
      "metadata": {
        "id": "fM-sykF7e-KY"
      },
      "source": [
        "cadena=str.upper(input(\"dite la palabra: \"))\n",
        "letras=[]\n",
        "numeros=[]\n",
        "repeticion=0\n",
        "for letra in cadena:\n",
        "  if not letra ==\" \":\n",
        "    if letras==[]:\n",
        "      if letra in letras:\n",
        "        repeticion+=1\n",
        "      else:\n",
        "        if letras==[]:\n",
        "          repeticion=1\n",
        "        else:\n",
        "          numeros.append(repeticion)\n",
        "          repeticion=1\n",
        "        letras.append(letra)\n",
        "    else:\n",
        "      if letra in letras[-1]:\n",
        "        repeticion+=1\n",
        "      else:\n",
        "        if letras==[]:\n",
        "          repeticion=1\n",
        "        else:\n",
        "          numeros.append(repeticion)\n",
        "          repeticion=1\n",
        "        letras.append(letra)\n",
        "numeros.append(repeticion)\n",
        "for item in letras:\n",
        "  print(item,end=\" \")\n",
        "print(\"\")\n",
        "for item in numeros:\n",
        "  print(item,end=\" \")"
      ],
      "execution_count": null,
      "outputs": []
    },
    {
      "cell_type": "markdown",
      "metadata": {
        "id": "Yq5FqrxJkDFR"
      },
      "source": [
        "---\n",
        "**RETO_4**\n",
        "---"
      ]
    },
    {
      "cell_type": "markdown",
      "metadata": {
        "id": "TofHRpfikK1_"
      },
      "source": [
        "En su hogar desean realizar compras por una nueva Aplicación Móvil “MercaOnly” para realizar comprar en línea, para no arriesgarse al contagio del COVID-19, al ingresar a la aplicación se encuentran con que cada producto tiene asociado un código y un precio.\n",
        "\n",
        "Con el paso del tiempo ustedes como usuarios ya tienen una lista de los elementos que compran para el mes, estos se encuentran dentro de una lista solo con los códigos de lo que les hacen falta o que necesitan comprar.\n",
        "\n",
        "Realice un programa que da como primer parámetro de entrada un diccionario (en formato JSON) que tiene las parejas {código: precio, código: precio, código: precio, código: precio, código: precio, código: precio …. código: precio} el cual representa todos los productos que tiene la Aplicación “MercaOnly”, y que como segundo parámetro de entrada dada la lista de códigos de los productos que se desean comprar, (separados por espacios), imprima el precio total de los productos que pueden comprar y los códigos de los productos que, si se pueden comprar, como los siguientes ejemplos:\n"
      ]
    },
    {
      "cell_type": "markdown",
      "metadata": {
        "id": "f6JWUjKEliHz"
      },
      "source": [
        "![Captura de pantalla (29).png](data:image/png;base64,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)"
      ]
    },
    {
      "cell_type": "code",
      "metadata": {
        "id": "SkmxRKj8l9SK"
      },
      "source": [
        "#emtrada1= diccionario en formato JSON {codigo:precio,codigo:precio,...,codigo:precio}que son lor producctos que se tienen\n",
        "#entrada2= lista de productos que se desean comprar (separados por espacios)\n",
        "#salida1=precio de los productos\n",
        "#salida2= productos que hay\n",
        "import json\n",
        "entrada1=input()\n",
        "entrada2= input()\n",
        "lista_de_compra=[]\n",
        "presio=[]\n",
        "productos_disponibles=[]\n",
        "json_format=json.loads(entrada1)\n",
        "\n",
        "for letra in entrada2:\n",
        "  if letra==\" \":\n",
        "    None\n",
        "  else:\n",
        "    lista_de_compra.append(letra)\n",
        "\n",
        "for letra in lista_de_compra:\n",
        "  if letra in json_format:\n",
        "    presio.append(json_format[letra])\n",
        "    productos_disponibles.append(letra)\n",
        "  else:\n",
        "    None\n",
        "\n",
        "suma_presios=0\n",
        "for numero in presio:\n",
        "  suma_presios=suma_presios+numero\n",
        "\n",
        "\n",
        "print(suma_presios)\n",
        "\n",
        "for producto in productos_disponibles:\n",
        "  print(producto,end=\" \")"
      ],
      "execution_count": null,
      "outputs": []
    },
    {
      "cell_type": "markdown",
      "metadata": {
        "id": "yMAZhM9xYIFt"
      },
      "source": [
        "---\n",
        "**RETO_5**\n",
        "---\n"
      ]
    },
    {
      "cell_type": "markdown",
      "metadata": {
        "id": "cfTE9cV5YTbM"
      },
      "source": [
        "Reto 5 P10 – MerkadoLibra\n",
        "Se crea un nuevo sitio web para intercambiar productos (hacer trueque), donde las personas se inscriben para intercambiar cosas que poseen pero que no necesitan con otras personas que también ofrecen cosas y están interesadas en adquirir otras, a este sitio se le llama ‘MerkadoLibra’.\n",
        "\n",
        "Cada persona crea listas de los elementos que desean adquirir y crean listas por categorías como pueden ser ‘Electrónica’, ’Ropa’, ’Video Juegos Retro’, ’Alimentos’ por mencionar ejemplos, y este es el asunto, solo se pueden intercambiar elementos de la misma categoría (Ropa por Ropa, Alimentos por Alimentos) para mantener la equivalencia en el trueque.\n",
        "\n",
        "Por lo anterior, el Sistema de MerkadoLibra debe contar con un módulo llamado ‘categorias’ (La carga de este módulo vale 1.0), en el cual debe existir las siguientes funciones:\n",
        "\n",
        "•\t(Vale 1.0) Función ‘categorias’: esta función recibe una lista de Categorías de los productos que se pueden cargar en MerkadoLibra, se debe generar una lista como resultado, esta lista resultado debe ser revisada para que no contenga categorías repetidas; por Ejemplo, si recibe como entrada \n",
        "[‘Electrónica’, ’Ropa’, ’Video Juegos Retro’, ’Alimentos’, ’Software’ ,’Hardware’, ‘Alimentos’ ,’Herramientas ,’Ropa’, ’Hardware’, ’Hardware’, ’Hardware’, ’Alimento’]\n",
        "entonces debe retornar [‘Electrónica’, ’Ropa’, ’Video Juegos Retro’, ’Alimentos’, ’Software’ ,’Hardware’ ,’Herramientas’]\n",
        "•\t(Vale 1.0) Función ‘notengodecategoria’: dada una lista con los códigos de categorías de productos que les falta, la lista de las categorías que están de cada lámina y una categoría específica de producto (en ese orden), les retorne una lista con los números de dicha clase que les faltan.\n",
        "\n",
        "Por ejemplo si se ejecuta la función:\n",
        "notengodecategoria: ([1,3,6,8], ['Ropa',Electrónica,'Alimento', 'Alimento', 'Alimento', 'Ropa', Electrónica, 'Alimento', 'Alimento', 'Alimento'],     'Alimento')\n",
        "debe retornar la lista\n",
        "[3,8] #puesto que la Nro 1 y Nro 6 no salen pues NO son de categoría de 'Alimento',   mientras que Nro 3 y Nro 8 SI.\n",
        " \n",
        "Es importante recordar que los números de los productos empiezan en cero (0) y van hasta el nueve (9) en este ejemplo, y siempre se debe empiezan a recorrer en cero.\n",
        "\n",
        "Otro Ejemplo es si se llama la función  ‘notengodecategoria’ con las entradas ([1,3,6,8], ['Ropa',Electrónica,'Alimento', 'Alimento', 'Alimento', 'Ropa', Electrónica, 'Alimento', 'Alimento', 'Alimento'],     ‘Electrónica’)\n",
        "Se debe retornar la lista:\n",
        "[1,6]\n",
        "•\t(Vale 1.0) Función ‘notengo’: que dada una lista con el código de los productos que tiene otra persona en la plataforma, y una lista con los productos que tengo, debe retornar una lista con los productos que me podrían interesar de la otra persona (los que la otra persona tiene, pero yo no tengo).\n",
        "\n",
        "Por ejemplo si se llama a ‘notengo’ y se le ingresa ([3,5,7,10,15,16],[4,10,5,8])\n",
        "Se debe retornar la lista:\n",
        "[3,7,15,16]\n",
        "\n",
        "•\t(Vale 1.0) Para simplificar la primera versión de la librería, los gerentes de MerkadoLibra decidieron pensar que todos los productos son de una misma categoría, y que la lista que maneja cada persona indica los códigos (solo números enteros) de cada producto que tienen para cambiar y aquellos códigos que no están en dicha lista son los que necesitan. De esta manera deben crear una función \"puedocambiar\" que reciba la lista de láminas que tiene otra persona y la lista de láminas que tienen ellos y que retorne la cantidad de productos \n",
        "que pueden interesarle.\n",
        "\n",
        "Por ejemplo, al llamar la función ‘puedocambiar’ e ingresar ([3,5,7,10,15,16],[4,10,5,8]) Debe retornar \n",
        "2\n",
        "\n",
        "Entrada:\n",
        "Este programa no requiere entrada de datos. Ni generará salida. Se requiere que el estudiante genere un archivo con el nombre categorias.py y que se respeten los nombres de las funciones dadas y sus parámetros.\n",
        "Salida: NINGUNA\n"
      ]
    },
    {
      "cell_type": "code",
      "metadata": {
        "id": "yX3w2c6cYicQ"
      },
      "source": [
        "def categorias(c):\n",
        "  contador=0\n",
        "  lista=[]\n",
        "  for cate in c:\n",
        "    if c[:contador+1].count(cate)>1:\n",
        "      None\n",
        "    else: \n",
        "      lista.append(cate)\n",
        "    contador+=1\n",
        "  return lista\n",
        "\n",
        "def notengodecategoria(f,l,s):#codigo de faltantes-lista de categorias-categoria específica\n",
        "  lista=[]\n",
        "  for codigo in f:\n",
        "    if l[codigo]==s:\n",
        "      lista.append(codigo)\n",
        "  return lista\n",
        "\n",
        "def notengo(o,y):#losproductos que tiene la otra persona- los productos que tengo\n",
        "  for producto in y:\n",
        "    if producto in o:\n",
        "      o.remove(producto)\n",
        "  return o\n",
        "\n",
        "def puedocambiar(o,e):#codigos de otra persona- codigos de ellos\n",
        "  contador=0\n",
        "  for codigo in e:\n",
        "    if codigo in o:\n",
        "      contador+=1\n",
        "  return contador"
      ],
      "execution_count": null,
      "outputs": []
    }
  ]
}